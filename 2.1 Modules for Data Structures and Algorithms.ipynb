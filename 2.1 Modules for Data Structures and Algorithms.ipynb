{
 "cells": [
  {
   "cell_type": "markdown",
   "metadata": {},
   "source": [
    "## Modules for Data Structures and Algorithms\n",
    "\n",
    "#### Collections\n",
    "- In Python, a collection is a way to group multiple items together. Think of it like a container that can hold different types of items, such as numbers, strings, or even other collections. The main types of collections in Python are:\n",
    "\n",
    "1. **List:** An ordered collection of items that can be changed. Example: [1, 2, 3, \"apple\"]\n",
    "\n",
    "2. **Tuple:** An ordered collection of items that cannot be changed. Example: (1, 2, 3, \"apple\")\n",
    "\n",
    "3. **Set:** An unordered collection of unique items. Example: {1, 2, 3, \"apple\"}\n",
    "\n",
    "4. **Dictionary:** A collection of key-value pairs. Example: {\"name\": \"Alice\", \"age\": 25}"
   ]
  },
  {
   "cell_type": "markdown",
   "metadata": {},
   "source": []
  },
  {
   "cell_type": "code",
   "execution_count": null,
   "metadata": {},
   "outputs": [],
   "source": []
  },
  {
   "cell_type": "code",
   "execution_count": null,
   "metadata": {},
   "outputs": [],
   "source": []
  },
  {
   "cell_type": "code",
   "execution_count": null,
   "metadata": {},
   "outputs": [],
   "source": []
  },
  {
   "cell_type": "code",
   "execution_count": null,
   "metadata": {},
   "outputs": [],
   "source": []
  },
  {
   "cell_type": "code",
   "execution_count": null,
   "metadata": {},
   "outputs": [],
   "source": []
  },
  {
   "cell_type": "code",
   "execution_count": null,
   "metadata": {},
   "outputs": [],
   "source": []
  },
  {
   "cell_type": "code",
   "execution_count": null,
   "metadata": {},
   "outputs": [],
   "source": []
  }
 ],
 "metadata": {
  "language_info": {
   "name": "python"
  }
 },
 "nbformat": 4,
 "nbformat_minor": 2
}
