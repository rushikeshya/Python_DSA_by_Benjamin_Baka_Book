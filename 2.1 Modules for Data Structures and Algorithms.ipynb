{
 "cells": [
  {
   "cell_type": "markdown",
   "metadata": {},
   "source": [
    "## Modules for Data Structures and Algorithms\n",
    "\n",
    "# Collections\n",
    "- In Python, a collection is a way to group multiple items together. Think of it like a container that can hold different types of items, such as numbers, strings, or even other collections. The main types of collections in Python are:\n",
    "\n",
    "1. **List:** An ordered collection of items that can be changed. Example: [1, 2, 3, \"apple\"]\n",
    "\n",
    "2. **Tuple:** An ordered collection of items that cannot be changed. Example: (1, 2, 3, \"apple\")\n",
    "\n",
    "3. **Set:** An unordered collection of unique items. Example: {1, 2, 3, \"apple\"}\n",
    "\n",
    "4. **Dictionary:** A collection of key-value pairs. Example: {\"name\": \"Alice\", \"age\": 25}"
   ]
  },
  {
   "cell_type": "markdown",
   "metadata": {},
   "source": [
    "# Main Topics in This Part:\n",
    "\n",
    "1. [deque](#1)\n",
    "2. [ChaiMap](#2)\n",
    "3. [Counter](#3)\n",
    "4. [OrderedDict](#4)\n",
    "5. [defaultdict](#5)\n",
    "6. [UserDict, UserList, UserString](#6)"
   ]
  },
  {
   "cell_type": "markdown",
   "metadata": {},
   "source": [
    "<a name=\"1\"></a>\n",
    "## 1. Deques\n",
    "- Lists with fast appends and pops either end\n",
    "\n",
    "- Double-ended queues, or deques (usually pronounced decks), are list-like objects that\n",
    " support thread-safe, memory-efficient appends.\n",
    "\n",
    "- Deques are mutable and support some of\n",
    " the operations of lists, such as indexing. Deques can be assigned by index, for\n",
    " example, dq[1] = z; however, we cannot directly slice deques. For example, dq[1:2]\n",
    " results in a TypeError \n"
   ]
  },
  {
   "cell_type": "markdown",
   "metadata": {},
   "source": [
    "- The major advantage of deques over lists is that inserting items at the beginning of a deque is much faster than inserting items at the beginning of a list, although inserting items at the end of a deque is very slightly slower than the equivalent operation on a list. \n",
    "- Deques are thread, safe and can be serialized using the pickle module."
   ]
  },
  {
   "cell_type": "code",
   "execution_count": 1,
   "metadata": {},
   "outputs": [],
   "source": [
    "from collections import deque"
   ]
  },
  {
   "cell_type": "code",
   "execution_count": 2,
   "metadata": {},
   "outputs": [
    {
     "data": {
      "text/plain": [
       "deque(['a', 'b', 'c'])"
      ]
     },
     "execution_count": 2,
     "metadata": {},
     "output_type": "execute_result"
    }
   ],
   "source": [
    "#Creates deque(['a', 'b', 'c'])\n",
    "dq = deque('abc')\n",
    "dq"
   ]
  },
  {
   "cell_type": "code",
   "execution_count": 3,
   "metadata": {},
   "outputs": [
    {
     "data": {
      "text/plain": [
       "deque(['a', 'b', 'c', 'd'])"
      ]
     },
     "execution_count": 3,
     "metadata": {},
     "output_type": "execute_result"
    }
   ],
   "source": [
    "dq.append('d')\n",
    "dq"
   ]
  },
  {
   "cell_type": "code",
   "execution_count": 4,
   "metadata": {},
   "outputs": [
    {
     "data": {
      "text/plain": [
       "deque(['z', 'a', 'b', 'c', 'd'])"
      ]
     },
     "execution_count": 4,
     "metadata": {},
     "output_type": "execute_result"
    }
   ],
   "source": [
    "dq.appendleft('z')\n",
    "dq"
   ]
  },
  {
   "cell_type": "code",
   "execution_count": 5,
   "metadata": {},
   "outputs": [
    {
     "data": {
      "text/plain": [
       "deque(['z', 'a', 'b', 'c', 'd', 'e', 'f', 'g'])"
      ]
     },
     "execution_count": 5,
     "metadata": {},
     "output_type": "execute_result"
    }
   ],
   "source": [
    "dq.extend('efg')\n",
    "dq"
   ]
  },
  {
   "cell_type": "code",
   "execution_count": 6,
   "metadata": {},
   "outputs": [
    {
     "data": {
      "text/plain": [
       "deque(['w', 'x', 'y', 'z', 'a', 'b', 'c', 'd', 'e', 'f', 'g'])"
      ]
     },
     "execution_count": 6,
     "metadata": {},
     "output_type": "execute_result"
    }
   ],
   "source": [
    "dq.extendleft('yxw')\n",
    "dq"
   ]
  },
  {
   "cell_type": "markdown",
   "metadata": {},
   "source": [
    "#### pop() and popleft()"
   ]
  },
  {
   "cell_type": "code",
   "execution_count": 7,
   "metadata": {},
   "outputs": [
    {
     "data": {
      "text/plain": [
       "deque(['w', 'x', 'y', 'z', 'a', 'b', 'c', 'd', 'e', 'f'])"
      ]
     },
     "execution_count": 7,
     "metadata": {},
     "output_type": "execute_result"
    }
   ],
   "source": [
    "dq.pop()\n",
    "dq"
   ]
  },
  {
   "cell_type": "code",
   "execution_count": 8,
   "metadata": {},
   "outputs": [
    {
     "data": {
      "text/plain": [
       "'w'"
      ]
     },
     "execution_count": 8,
     "metadata": {},
     "output_type": "execute_result"
    }
   ],
   "source": [
    "dq.popleft()"
   ]
  },
  {
   "cell_type": "code",
   "execution_count": 9,
   "metadata": {},
   "outputs": [
    {
     "data": {
      "text/plain": [
       "deque(['x', 'y', 'z', 'a', 'b', 'c', 'd', 'e', 'f'])"
      ]
     },
     "execution_count": 9,
     "metadata": {},
     "output_type": "execute_result"
    }
   ],
   "source": [
    "dq"
   ]
  },
  {
   "cell_type": "markdown",
   "metadata": {},
   "source": [
    " We can also use the rotate(n) method to move and rotate all items of n steps to the right\n",
    " for positive values of the integer n, or left for negative values of n the left, using positive\n",
    " integers as the argument, for example:"
   ]
  },
  {
   "cell_type": "code",
   "execution_count": 10,
   "metadata": {},
   "outputs": [
    {
     "data": {
      "text/plain": [
       "deque(['x', 'y', 'z', 'a', 'b', 'c', 'd', 'e', 'f'])"
      ]
     },
     "execution_count": 10,
     "metadata": {},
     "output_type": "execute_result"
    }
   ],
   "source": [
    "dq"
   ]
  },
  {
   "cell_type": "code",
   "execution_count": 11,
   "metadata": {},
   "outputs": [
    {
     "data": {
      "text/plain": [
       "deque(['e', 'f', 'x', 'y', 'z', 'a', 'b', 'c', 'd'])"
      ]
     },
     "execution_count": 11,
     "metadata": {},
     "output_type": "execute_result"
    }
   ],
   "source": [
    "dq.rotate(2) #rotates all items 2 step to the right\n",
    "dq"
   ]
  },
  {
   "cell_type": "code",
   "execution_count": 12,
   "metadata": {},
   "outputs": [
    {
     "data": {
      "text/plain": [
       "deque(['x', 'y', 'z', 'a', 'b', 'c', 'd', 'e', 'f'])"
      ]
     },
     "execution_count": 12,
     "metadata": {},
     "output_type": "execute_result"
    }
   ],
   "source": [
    "dq.rotate(-2)\n",
    "dq"
   ]
  },
  {
   "cell_type": "code",
   "execution_count": 13,
   "metadata": {},
   "outputs": [],
   "source": [
    "import itertools"
   ]
  },
  {
   "cell_type": "code",
   "execution_count": 14,
   "metadata": {},
   "outputs": [
    {
     "data": {
      "text/plain": [
       "['a', 'b', 'c', 'd', 'e', 'f']"
      ]
     },
     "execution_count": 14,
     "metadata": {},
     "output_type": "execute_result"
    }
   ],
   "source": [
    "list(itertools.islice(dq,3,9))"
   ]
  },
  {
   "cell_type": "markdown",
   "metadata": {},
   "source": [
    " A useful feature of deques is that they support a maxlen optional parameter that restricts\n",
    " the size of the deque. This makes it ideally suited to a data structure known as a circular\n",
    " buffer. This is a fixed-size structure that is effectively connected end to end and they are\n",
    " typically used for buffering data streams. The following is a basic example"
   ]
  },
  {
   "cell_type": "code",
   "execution_count": 16,
   "metadata": {},
   "outputs": [
    {
     "name": "stdout",
     "output_type": "stream",
     "text": [
      "deque([0], maxlen=3)\n",
      "deque([0, 1], maxlen=3)\n",
      "deque([0, 1, 2], maxlen=3)\n",
      "deque([1, 2, 3], maxlen=3)\n",
      "deque([2, 3, 4], maxlen=3)\n",
      "deque([3, 4, 5], maxlen=3)\n"
     ]
    }
   ],
   "source": [
    "dq2 = deque([], maxlen=3)\n",
    "for i in range(6):\n",
    "    dq2.append(i)\n",
    "    print(dq2)"
   ]
  },
  {
   "cell_type": "code",
   "execution_count": 17,
   "metadata": {},
   "outputs": [
    {
     "name": "stdout",
     "output_type": "stream",
     "text": [
      "deque([0], maxlen=4)\n",
      "deque([0, 1], maxlen=4)\n",
      "deque([0, 1, 2], maxlen=4)\n",
      "deque([0, 1, 2, 3], maxlen=4)\n",
      "deque([1, 2, 3, 4], maxlen=4)\n",
      "deque([2, 3, 4, 5], maxlen=4)\n"
     ]
    }
   ],
   "source": [
    "dq3 = deque([], maxlen=4)\n",
    "for i in range(6):\n",
    "    dq3.append(i)\n",
    "    print(dq3)"
   ]
  },
  {
   "cell_type": "markdown",
   "metadata": {},
   "source": [
    "<a name=\"2\"></a>\n",
    "# 2. ChainMaps"
   ]
  },
  {
   "cell_type": "code",
   "execution_count": null,
   "metadata": {},
   "outputs": [],
   "source": [
    "# page = 67"
   ]
  },
  {
   "cell_type": "code",
   "execution_count": null,
   "metadata": {},
   "outputs": [],
   "source": []
  }
 ],
 "metadata": {
  "kernelspec": {
   "display_name": "Python 3",
   "language": "python",
   "name": "python3"
  },
  "language_info": {
   "codemirror_mode": {
    "name": "ipython",
    "version": 3
   },
   "file_extension": ".py",
   "mimetype": "text/x-python",
   "name": "python",
   "nbconvert_exporter": "python",
   "pygments_lexer": "ipython3",
   "version": "3.12.3"
  }
 },
 "nbformat": 4,
 "nbformat_minor": 2
}
